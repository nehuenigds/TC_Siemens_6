{
 "cells": [
  {
   "cell_type": "markdown",
   "id": "b684ba39",
   "metadata": {},
   "source": [
    "#### Teoria de los Circuitos\n",
    "\n",
    "# Transferencias \n",
    "##### Nehuen Ivanovic \n",
    "--- \n",
    "---"
   ]
  },
  {
   "cell_type": "markdown",
   "id": "c2defbc2",
   "metadata": {},
   "source": [
    " # Ej 1\n",
    "Sacamos la tranferecia $\\frac{V_0}{V_i}$ por MAI.\n",
    "<img src=\"1.png\" scale=\"0.5\">"
   ]
  },
  {
   "cell_type": "markdown",
   "id": "5ea21098",
   "metadata": {},
   "source": [
    "Buscamos la tranferecia $\\frac{V_o}{V_i}$, a traves del metodo MAI."
   ]
  },
  {
   "cell_type": "code",
   "execution_count": 15,
   "id": "380e092c",
   "metadata": {},
   "outputs": [
    {
     "data": {
      "text/latex": [
       "$\\displaystyle \\left[\\begin{matrix}G & - G & 0 & 0\\\\- G & C S + G + \\frac{1}{L S} & - \\frac{1}{L S} & - C S\\\\0 & - \\frac{1}{L S} & G + \\frac{1}{L S} & - G\\\\0 & - C S & - G & C S + \\frac{1}{L S}\\end{matrix}\\right]$"
      ],
      "text/plain": [
       "Matrix([\n",
       "[ G,                -G,           0,             0],\n",
       "[-G, C*S + G + 1/(L*S),    -1/(L*S),          -C*S],\n",
       "[ 0,          -1/(L*S), G + 1/(L*S),            -G],\n",
       "[ 0,              -C*S,          -G, C*S + 1/(L*S)]])"
      ]
     },
     "execution_count": 15,
     "metadata": {},
     "output_type": "execute_result"
    }
   ],
   "source": [
    "from sympy import *\n",
    "\n",
    "W, G, YC, YL, S, L, C, R = symbols('W, G, YC, YL, S, L, C, R')\n",
    "\n",
    "MX = Matrix([[G, -G, 0, 0],\n",
    "            [-G, G+YC+YL, -YL, -YC],\n",
    "            [0, -YL, YL+G, -G],\n",
    "            [0, -YC, -G, YL+YC]])\n",
    "MX=MX.subs(YC, S*C)\n",
    "MX=MX.subs(YL, 1/(S*L))\n",
    "MX"
   ]
  },
  {
   "cell_type": "markdown",
   "id": "11b94dd8",
   "metadata": {},
   "source": [
    "$\\frac{V_o}{V_i}=\\frac{V_{3-4}}{V_{1-4}}=(-1)^{(3+4+1+4+1+4+1+4)}\\frac{Y^{3-4}_{1-4}}{Y^{1-4}_{1-4}}$"
   ]
  },
  {
   "cell_type": "code",
   "execution_count": 16,
   "id": "35510b80",
   "metadata": {},
   "outputs": [],
   "source": [
    "Y1 = Matrix([[-G, G+YC+YL],\n",
    "            [0, -YL]])\n",
    "Y2 = Matrix([[G+YC+YL, -YL],\n",
    "            [-YL, YL+G]])\n",
    "\n",
    "Y2 = Y2.subs(YL, 1/(L*S))\n",
    "Y2 = Y2.subs(YC, S*C)\n",
    "Y1=Y1.subs(YL, 1/(L*S))\n",
    "Y1=Y1.subs(YC, S*C)\n"
   ]
  },
  {
   "cell_type": "code",
   "execution_count": 90,
   "id": "f5d47b8b",
   "metadata": {},
   "outputs": [
    {
     "data": {
      "text/latex": [
       "$\\displaystyle \\frac{2 S^{2} + 1}{6 \\sqrt{2} S^{3} + 8 S^{2} + 3 \\sqrt{2} S + 2}$"
      ],
      "text/plain": [
       "(2*S**2 + 1)/(6*sqrt(2)*S**3 + 8*S**2 + 3*sqrt(2)*S + 2)"
      ]
     },
     "execution_count": 90,
     "metadata": {},
     "output_type": "execute_result"
    }
   ],
   "source": [
    "detY1 = Y1.det()\n",
    "detY2 = Y2.det()\n",
    "\n",
    "A=detY1/detY2\n",
    "A=A.subs(G, 1/R)\n",
    "#A= A.subs(S, 1j*W)\n",
    "A=A.subs(R, 1)\n",
    "A=A.subs(L, C)\n",
    "A=A.subs(C, sqrt(2))\n",
    "A.simplify()\n"
   ]
  },
  {
   "cell_type": "markdown",
   "id": "3fa7a8c8",
   "metadata": {},
   "source": [
    " ## $G(s)=\\displaystyle \\frac{2 S^{2} + 1}{6 \\sqrt{2} S^{3} + 8 S^{2} + 3 \\sqrt{2} S + 2}$"
   ]
  },
  {
   "cell_type": "code",
   "execution_count": 95,
   "id": "1a95b68d",
   "metadata": {},
   "outputs": [
    {
     "data": {
      "text/latex": [
       "$\\displaystyle \\frac{- 2 W^{2} - 2.0 \\sqrt{2} i W - 2}{8.0 W^{2} + \\left(2 - 2 W^{2}\\right)^{2}}$"
      ],
      "text/plain": [
       "(-2*W**2 - 2.0*sqrt(2)*I*W - 2)/(8.0*W**2 + (2 - 2*W**2)**2)"
      ]
     },
     "execution_count": 95,
     "metadata": {},
     "output_type": "execute_result"
    }
   ],
   "source": [
    "\n",
    "B=-(1j*(L*W/R+C*W*R))**2+(-C*L*W**2+2)**2\n",
    "D=-(1j*(L*W/R+C*W*R))-(C*L*((W)**(2))+2)\n",
    "M=D/B\n",
    "M=M.subs(R, 1)\n",
    "M=M.subs(L, C)\n",
    "M=M.subs(C, sqrt(2))\n",
    "M\n"
   ]
  },
  {
   "cell_type": "markdown",
   "id": "f40075de",
   "metadata": {},
   "source": [
    "$G(jw)=\\displaystyle \\frac{- 2 W^{2} - 2.0 \\sqrt{2} i W - 2}{4 + 4 W^{4}}$\n",
    "\n",
    "## $G(jw)=\\displaystyle \\frac{-  W^{2} -j \\sqrt{2}  W - 1}{2 + 2 W^{4}}$"
   ]
  },
  {
   "cell_type": "markdown",
   "id": "a56321cd",
   "metadata": {},
   "source": [
    "$I= \\displaystyle \\frac{ \\sqrt{2}  W}{2 W^4+2}$ \n",
    "\n",
    "$R= \\displaystyle \\frac{- W^{2} - 1}{2 W^4+2}$"
   ]
  },
  {
   "cell_type": "code",
   "execution_count": 102,
   "id": "6aa9c671",
   "metadata": {},
   "outputs": [
    {
     "data": {
      "text/latex": [
       "$\\displaystyle \\frac{1}{\\sqrt{\\left(- C L W^{2} + 2\\right)^{2} + 1.0 \\left(C R W + \\frac{L W}{R}\\right)^{2}}}$"
      ],
      "text/plain": [
       "1/sqrt((-C*L*W**2 + 2)**2 + 1.0*(C*R*W + L*W/R)**2)"
      ]
     },
     "execution_count": 102,
     "metadata": {},
     "output_type": "execute_result"
    }
   ],
   "source": [
    "M=1/sqrt(B)\n",
    "M"
   ]
  },
  {
   "cell_type": "markdown",
   "id": "af338f22",
   "metadata": {},
   "source": [
    "$|G(jw)|=\\displaystyle \\frac{1}{\\sqrt{\\left(- C L W^{2} + 2\\right)^{2} + 1.0 \\left(C R W + \\frac{L W}{R}\\right)^{2}}}$"
   ]
  },
  {
   "cell_type": "markdown",
   "id": "b1433899",
   "metadata": {},
   "source": [
    "$|G(jw)|=\\displaystyle \\frac{1}{\\sqrt{ W^{2}8 + \\left(- 2 W^{2} + 2\\right)^{2}}}$\n",
    "\n",
    "$|G(jw)|=\\displaystyle \\frac{1}{\\sqrt{ W^{2}8 + 4 W^4-8W^2+4}}$\n",
    "\n",
    "## $|G(jw)|=\\displaystyle \\frac{1}{\\sqrt{  4 W^4+4}}$"
   ]
  },
  {
   "cell_type": "markdown",
   "id": "a4a70f64",
   "metadata": {},
   "source": [
    "$\\phi(jw)=arctan \\left(\\frac{I}{R}\\right)=arctan \\left(\\frac{ - \\left(C R W + \\frac{L W}{R}\\right) }{- C L W^{2} - 2}\\right)$\n",
    "\n",
    "## Limite de la fase\n",
    "\n",
    "$\\lim_{w \\to 0}=arctan \\left(\\frac{ - \\left(C R W + \\frac{L W}{R}\\right) }{- C L W^{2} - 2}\\right)=arctan\\frac{0}{2}= \\pi n$\n",
    "\n",
    "$\\lim_{w \\to \\infty}=arctan \\left(\\frac{ - \\left(C R W + \\frac{L W}{R}\\right) }{- C L W^{2} - 2}\\right)=arctan\\frac{0}{2}=\\arctan{\\frac{\\infty 2}{\\infty^2}} = \\arctan (0) =\\pi n$\n",
    "\n"
   ]
  },
  {
   "cell_type": "markdown",
   "id": "b7918bfb",
   "metadata": {},
   "source": [
    "## Limite del modulo\n",
    "\n",
    "$\\lim_{w \\to 0} \\frac{1}{\\sqrt{  4 W^4+4}}=\\frac{1}{2}$\n",
    "\n",
    "\n",
    "$\\lim_{w \\to \\infty} \\frac{1}{\\sqrt{  4 W^4+4}}=0$"
   ]
  },
  {
   "attachments": {
    "Simulacion1.png": {
     "image/png": "[encoded data removed]"
    }
   },
   "cell_type": "markdown",
   "id": "5d605a40",
   "metadata": {},
   "source": [
    "![Simulacion1.png](attachment:Simulacion1.png)\n",
    "Podemos ver que es un filtro pasabajo"
   ]
  },
  {
   "attachments": {
    "2.png": {
     "image/png": "[encoded data removed]"
    }
   },
   "cell_type": "markdown",
   "id": "45cb450d",
   "metadata": {},
   "source": [
    "# Ej 2\n",
    "\n",
    "![2.png](attachment:2.png)\n"
   ]
  },
  {
   "cell_type": "markdown",
   "id": "cee77c73",
   "metadata": {},
   "source": [
    "Buscamos la tranferecia $\\frac{V_o}{V_i}$, a traves del metodo MAI."
   ]
  },
  {
   "cell_type": "code",
   "execution_count": 21,
   "id": "72a2f8c7",
   "metadata": {},
   "outputs": [
    {
     "data": {
      "text/latex": [
       "$\\displaystyle \\left[\\begin{matrix}G & - G & 0 & 0 & 0\\\\- G & G + YC & - YC & 0 & 0\\\\0 & - YC & 2 YC + YL & - YC & - YL\\\\0 & 0 & - YC & G + YC & - G\\\\0 & 0 & - YL & - G & YC + YL\\end{matrix}\\right]$"
      ],
      "text/plain": [
       "Matrix([\n",
       "[ G,     -G,         0,      0,       0],\n",
       "[-G, G + YC,       -YC,      0,       0],\n",
       "[ 0,    -YC, 2*YC + YL,    -YC,     -YL],\n",
       "[ 0,      0,       -YC, G + YC,      -G],\n",
       "[ 0,      0,       -YL,     -G, YC + YL]])"
      ]
     },
     "execution_count": 21,
     "metadata": {},
     "output_type": "execute_result"
    }
   ],
   "source": [
    "MX = Matrix([[G, -G, 0, 0, 0],\n",
    "             [-G, G+YC, -YC, 0, 0],\n",
    "             [0, -YC, 2*YC+YL, -YC, -YL],\n",
    "             [0, 0, -YC, YC+G, -G],\n",
    "             [0,0,-YL,-G,YC+YL]])\n",
    "MX"
   ]
  },
  {
   "cell_type": "markdown",
   "id": "6739c146",
   "metadata": {},
   "source": [
    "$\\frac{V_o}{V_i}=\\frac{V_{4-5}}{V_{1-5}}=(-1)^{(4+5+5+1+5+1+5+1)}\\frac{Y^{4-5}_{1-5}}{Y^{1-5}_{1-5}}$"
   ]
  },
  {
   "cell_type": "code",
   "execution_count": 22,
   "id": "8d4c8c6a",
   "metadata": {},
   "outputs": [
    {
     "data": {
      "text/latex": [
       "$\\displaystyle \\left[\\begin{matrix}- G & C S + G & - C S\\\\0 & - C S & 2 C S + \\frac{1}{L S}\\\\0 & 0 & - C S\\end{matrix}\\right]$"
      ],
      "text/plain": [
       "Matrix([\n",
       "[-G, C*S + G,            -C*S],\n",
       "[ 0,    -C*S, 2*C*S + 1/(L*S)],\n",
       "[ 0,       0,            -C*S]])"
      ]
     },
     "execution_count": 22,
     "metadata": {},
     "output_type": "execute_result"
    }
   ],
   "source": [
    "Y1 = Matrix([[-G, G+YC, -YC],\n",
    "             [0, -YC, 2*YC+YL],\n",
    "            [0, 0, -YC]])\n",
    "Y2 = Matrix([[ G+YC, -YC, 0],\n",
    "             [-YC, 2*YC+YL, -YC],\n",
    "            [0, -YC, YC+G]])\n",
    "\n",
    "Y2 = Y2.subs(YL, 1/(L*S))\n",
    "Y2 = Y2.subs(YC, S*C)\n",
    "Y1=Y1.subs(YL, 1/(L*S))\n",
    "Y1=Y1.subs(YC, S*C)\n",
    "Y1\n"
   ]
  },
  {
   "cell_type": "code",
   "execution_count": 23,
   "id": "4d363f9f",
   "metadata": {},
   "outputs": [
    {
     "data": {
      "text/latex": [
       "$\\displaystyle \\frac{C^{2} L S^{3}}{R \\left(\\frac{2 C^{2} L S^{3}}{R} + C^{2} S^{2} + \\frac{2 C L S^{2}}{R^{2}} + \\frac{2 C S}{R} + \\frac{1}{R^{2}}\\right)}$"
      ],
      "text/plain": [
       "C**2*L*S**3/(R*(2*C**2*L*S**3/R + C**2*S**2 + 2*C*L*S**2/R**2 + 2*C*S/R + R**(-2)))"
      ]
     },
     "execution_count": 23,
     "metadata": {},
     "output_type": "execute_result"
    }
   ],
   "source": [
    "detY1 = Y1.det()\n",
    "detY2 = Y2.det()\n",
    "\n",
    "A=detY1/detY2*-1\n",
    "A=A.subs(G, 1/R)\n",
    "#A= A.subs(S, 1j*W)\n",
    "A\n"
   ]
  },
  {
   "cell_type": "code",
   "execution_count": 24,
   "id": "2f919e1f",
   "metadata": {},
   "outputs": [
    {
     "data": {
      "text/latex": [
       "$\\displaystyle \\frac{0.5 S^{3}}{1.0 S^{3} + 2.0 S^{2} + 2 S + 1}$"
      ],
      "text/plain": [
       "0.5*S**3/(1.0*S**3 + 2.0*S**2 + 2*S + 1)"
      ]
     },
     "execution_count": 24,
     "metadata": {},
     "output_type": "execute_result"
    }
   ],
   "source": [
    "\n",
    "M=A\n",
    "M=M.subs(R, 1)\n",
    "M=M.subs(L, 1/2)\n",
    "M=M.subs(C, 1)\n",
    "M"
   ]
  },
  {
   "cell_type": "markdown",
   "id": "179f4b59",
   "metadata": {},
   "source": [
    "## $G(s)=\\displaystyle \\frac{S^{3}}{2 S^{3} + 4 S^{2} + 4 S + 2}$"
   ]
  },
  {
   "cell_type": "code",
   "execution_count": 25,
   "id": "6b3c714e",
   "metadata": {},
   "outputs": [
    {
     "data": {
      "text/latex": [
       "$\\displaystyle - \\frac{0.5 i W^{3}}{- 1.0 i W^{3} - 2.0 W^{2} + 2.0 i W + 1}$"
      ],
      "text/plain": [
       "-0.5*I*W**3/(-1.0*I*W**3 - 2.0*W**2 + 2.0*I*W + 1)"
      ]
     },
     "execution_count": 25,
     "metadata": {},
     "output_type": "execute_result"
    }
   ],
   "source": [
    "M=M.subs(S, 1j*W)\n",
    "M"
   ]
  },
  {
   "cell_type": "markdown",
   "id": "8b513298",
   "metadata": {},
   "source": [
    "$G(jw)=\\displaystyle \\frac{j w^{3}}{ 4 w^{2}-2  -  4 j w+ 2 j w^{3}}$\n",
    "\n"
   ]
  },
  {
   "cell_type": "markdown",
   "id": "e8f8500e",
   "metadata": {},
   "source": [
    " $G(jw)=\\displaystyle \\frac{j w^{3}}{ 4 w^{2}-2  -  4 j w+ 2 j w^{3}} \\frac{(4 w^{2}-2) -j(- 4 j w+ 2 w^{3})}{(4 w^{2}-2) -j(- 4 j w+ 2 w^{3})}$\n",
    "\n",
    "$G(jw)=\\displaystyle \\frac{j w^{3}((4 w^{2}-2) -j(- 4 j w+ 2 w^{3}))}{(4 w^{2}-2)^2 -j(- 4 j w+ 2 w^{3})^2 }$\n"
   ]
  },
  {
   "cell_type": "code",
   "execution_count": 26,
   "id": "d1517e99",
   "metadata": {},
   "outputs": [
    {
     "data": {
      "text/latex": [
       "$\\displaystyle \\frac{W^{3} \\left(2.0 W^{3} + 4.0 i W^{2} - 4.0 W - 2.0 i\\right)}{4.0 W^{6} + 4.0}$"
      ],
      "text/plain": [
       "W**3*(2.0*W**3 + 4.0*I*W**2 - 4.0*W - 2.0*I)/(4.0*W**6 + 4.0)"
      ]
     },
     "execution_count": 26,
     "metadata": {},
     "output_type": "execute_result"
    }
   ],
   "source": [
    "I=-1j*(-4*W+2*W**3)\n",
    "F=4*W**2-2\n",
    "D=1j*W**3\n",
    "M=(D*(F+I))/(F**2-I**2)\n",
    "\n",
    "M=(F**2-I**2)\n",
    "M=M.simplify()\n",
    "A=D*(F+I)\n",
    "A=A.simplify()\n",
    "A/M"
   ]
  },
  {
   "cell_type": "markdown",
   "id": "12aeaa03",
   "metadata": {},
   "source": [
    "## $G(jw)=\\displaystyle \\frac{W^{3} \\left(2 W^{3} + 4 i W^{2} - 4 W - 2 i\\right)}{4 W^{6} + 4}$"
   ]
  },
  {
   "cell_type": "markdown",
   "id": "efb3907a",
   "metadata": {},
   "source": [
    "$I=\\displaystyle \\frac{W^{3} \\left(4 W^{2}- 2 \\right)}{4 W^{6} + 4}$\n",
    "\n",
    "$R=\\displaystyle \\frac{W^{3} \\left(2 W^{3} - 4 W \\right)}{4 W^{6} + 4}$"
   ]
  },
  {
   "cell_type": "markdown",
   "id": "61e8cc24",
   "metadata": {},
   "source": [
    "---\n",
    "## $|G(jw)|$"
   ]
  },
  {
   "cell_type": "code",
   "execution_count": 27,
   "id": "df099342",
   "metadata": {},
   "outputs": [
    {
     "data": {
      "text/latex": [
       "$\\displaystyle \\frac{\\sqrt{\\frac{W^{6} \\left(W^{6} + 1\\right)}{W^{12} + 2 W^{6} + 1}}}{2}$"
      ],
      "text/plain": [
       "sqrt(W**6*(W**6 + 1)/(W**12 + 2*W**6 + 1))/2"
      ]
     },
     "execution_count": 27,
     "metadata": {},
     "output_type": "execute_result"
    }
   ],
   "source": [
    "Im=(W**3)*(4*W**2-2)/(4*W**6+4)\n",
    "\n",
    "Re=(W**3)*(2*W**3-4*W)/(4*W**6+4)\n",
    "\n",
    "Mod=sqrt(Im**2+Re**2)\n",
    "Mod.simplify()\n"
   ]
  },
  {
   "cell_type": "markdown",
   "id": "22d067f7",
   "metadata": {},
   "source": [
    " $|G(jw)|=\\displaystyle \\frac{\\sqrt{\\frac{W^{6} \\left(W^{6} + 1\\right)}{W^{12} + 2 W^{6} + 1}}}{2}$"
   ]
  },
  {
   "cell_type": "markdown",
   "id": "d3bee88e",
   "metadata": {},
   "source": [
    "---\n",
    "## $\\phi(jw)$"
   ]
  },
  {
   "cell_type": "code",
   "execution_count": 28,
   "id": "75537598",
   "metadata": {},
   "outputs": [
    {
     "data": {
      "text/latex": [
       "$\\displaystyle \\frac{4 W^{2} - 2}{2 W^{3} - 4 W}$"
      ],
      "text/plain": [
       "(4*W**2 - 2)/(2*W**3 - 4*W)"
      ]
     },
     "execution_count": 28,
     "metadata": {},
     "output_type": "execute_result"
    }
   ],
   "source": [
    "Im/Re"
   ]
  },
  {
   "cell_type": "markdown",
   "id": "c316df6e",
   "metadata": {},
   "source": [
    "$\\phi(jw)=arctan \\left(\\frac{I}{R}\\right)=arctan \\displaystyle \\frac{4 W^{2} - 2}{2 W^{3} - 4 W}$\n",
    "\n",
    "## Limite de la fase\n",
    "\n",
    "$\\lim_{w \\to 0}=arctan \\displaystyle \\frac{4 W^{2} - 2}{2 W^{3} - 4 W}=\\lim_{x \\to \\infty}arctan(x)= \\frac{\\pi}{2} +\\pi n$\n",
    "\n",
    "$\\lim_{w \\to \\infty}=arctan\\displaystyle \\frac{4 W^{2} - 2}{2 W^{3} - 4 W}=arctan( 0) = \\arctan (0) =\\pi n$\n",
    "\n"
   ]
  },
  {
   "cell_type": "markdown",
   "id": "9873d78a",
   "metadata": {},
   "source": [
    "## Limite del modulo\n",
    "\n",
    "$\\lim_{w \\to 0}\\displaystyle \\frac{\\sqrt{\\frac{W^{6} \\left(W^{6} + 1\\right)}{W^{12} + 2 W^{6} + 1}}}{2}=\\frac{0}{2}=0$\n",
    "\n",
    "\n",
    "$\\lim_{w \\to \\infty}\\displaystyle \\frac{\\sqrt{\\frac{W^{6} \\left(W^{6} + 1\\right)}{W^{12} + 2 W^{6} + 1}}}{2}=\\frac{\\sqrt{\\frac{ \\left(W^{12} + W^{6}\\right)}{W^{12} + 2 W^{6} + 1}}}{2}=\\frac{1}{2}$"
   ]
  },
  {
   "attachments": {
    "Simulacion2.png": {
     "image/png": "[encoded data removed]"
    }
   },
   "cell_type": "markdown",
   "id": "aad1eae5",
   "metadata": {},
   "source": [
    "![Simulacion2.png](attachment:Simulacion2.png)\n",
    "En la simulacion se ve que es un filro pasa alto."
   ]
  },
  {
   "cell_type": "markdown",
   "id": "134e0d9f",
   "metadata": {},
   "source": [
    "-----------------------------------------------------------\n",
    "\n",
    "\n",
    "# EJ 3\n",
    " ----\n",
    "\n"
   ]
  },
  {
   "attachments": {
    "3.png": {
     "image/png": "[encoded data removed]"
    }
   },
   "cell_type": "markdown",
   "id": "d4da9c28",
   "metadata": {},
   "source": [
    "![3.png](attachment:3.png)"
   ]
  },
  {
   "cell_type": "code",
   "execution_count": 32,
   "id": "60117095",
   "metadata": {},
   "outputs": [
    {
     "data": {
      "text/latex": [
       "$\\displaystyle \\left[\\begin{matrix}G & - G & 0 & 0\\\\- G & G + 2 YC + YL & - YC - YL & - YC\\\\0 & - YC - YL & G + 2 YC + YL & - G - YC\\\\0 & - YC & - G - YC & G + 2 YC\\end{matrix}\\right]$"
      ],
      "text/plain": [
       "Matrix([\n",
       "[ G,            -G,             0,        0],\n",
       "[-G, G + 2*YC + YL,      -YC - YL,      -YC],\n",
       "[ 0,      -YC - YL, G + 2*YC + YL,  -G - YC],\n",
       "[ 0,           -YC,       -G - YC, G + 2*YC]])"
      ]
     },
     "execution_count": 32,
     "metadata": {},
     "output_type": "execute_result"
    }
   ],
   "source": [
    "MX = Matrix([[ G,        -G,         0,      0],\n",
    "             [-G, G+2*YC+YL,    -YL-YC,    -YC],\n",
    "             [ 0,    -YC-YL, 2*YC+YL+G,  -YC-G],\n",
    "             [ 0,       -YC,     -YC-G, 2*YC+G]])\n",
    "MX"
   ]
  },
  {
   "cell_type": "markdown",
   "id": "c1e9d149",
   "metadata": {},
   "source": [
    "$\\frac{V_o}{V_i}=\\frac{V_{3-4}}{V_{1-4}}=(-1)^{(3+4+1+4+1+4+1+4)}\\frac{Y^{3-4}_{1-4}}{Y^{1-4}_{1-4}}$"
   ]
  },
  {
   "cell_type": "code",
   "execution_count": 33,
   "id": "9da94750",
   "metadata": {},
   "outputs": [
    {
     "data": {
      "text/latex": [
       "$\\displaystyle \\left[\\begin{matrix}- G & 2 C S + G + \\frac{1}{L S}\\\\0 & - C S - \\frac{1}{L S}\\end{matrix}\\right]$"
      ],
      "text/plain": [
       "Matrix([\n",
       "[-G, 2*C*S + G + 1/(L*S)],\n",
       "[ 0,      -C*S - 1/(L*S)]])"
      ]
     },
     "execution_count": 33,
     "metadata": {},
     "output_type": "execute_result"
    }
   ],
   "source": [
    "Y1 = Matrix([[-G, G+2*YC+YL],\n",
    "             [ 0,    -YC-YL]])\n",
    "Y2 = Matrix([[ G+2*YC+YL,    -YL-YC],\n",
    "             [    -YC-YL, 2*YC+YL+G]])\n",
    "\n",
    "Y2 = Y2.subs(YL, 1/(L*S))\n",
    "Y2 = Y2.subs(YC, S*C)\n",
    "Y1=Y1.subs(YL, 1/(L*S))\n",
    "Y1=Y1.subs(YC, S*C)\n",
    "Y1\n"
   ]
  },
  {
   "cell_type": "code",
   "execution_count": 56,
   "id": "0dd8241a",
   "metadata": {},
   "outputs": [
    {
     "data": {
      "text/latex": [
       "$\\displaystyle \\frac{L S \\left(\\frac{C S}{R} + \\frac{1}{L R S}\\right)}{3 C^{2} L S^{3} + \\frac{4 C L S^{2}}{R} + 2 C S + \\frac{L S}{R^{2}} + \\frac{2}{R}}$"
      ],
      "text/plain": [
       "L*S*(C*S/R + 1/(L*R*S))/(3*C**2*L*S**3 + 4*C*L*S**2/R + 2*C*S + L*S/R**2 + 2/R)"
      ]
     },
     "execution_count": 56,
     "metadata": {},
     "output_type": "execute_result"
    }
   ],
   "source": [
    "detY1 = Y1.det()\n",
    "detY2 = Y2.det()\n",
    "\n",
    "A=detY1/detY2\n",
    "A=A.subs(G, 1/R)\n",
    "#A= A.subs(S, 1j*W)\n",
    "A\n"
   ]
  },
  {
   "cell_type": "code",
   "execution_count": 58,
   "id": "7b400b1a",
   "metadata": {},
   "outputs": [
    {
     "data": {
      "text/latex": [
       "$\\displaystyle \\frac{0.72 S^{2} + 1.0}{1.728 S^{3} + 2.88 S^{2} + 2.5 S + 2}$"
      ],
      "text/plain": [
       "(0.72*S**2 + 1.0)/(1.728*S**3 + 2.88*S**2 + 2.5*S + 2)"
      ]
     },
     "execution_count": 58,
     "metadata": {},
     "output_type": "execute_result"
    }
   ],
   "source": [
    "\n",
    "M=A\n",
    "M=M.subs(R, 1)\n",
    "M=M.subs(L, 0.9)\n",
    "M=M.subs(C, 0.8)\n",
    "M=M.simplify()\n",
    "M"
   ]
  },
  {
   "cell_type": "markdown",
   "id": "ac191eb9",
   "metadata": {},
   "source": [
    "$G(s)=  \\displaystyle \\frac{0.72 S^{2} + 1.0}{1.728 S^{3} + 2.88 S^{2} + 2.5 S + 2}$"
   ]
  },
  {
   "cell_type": "code",
   "execution_count": 59,
   "id": "707a33dd",
   "metadata": {},
   "outputs": [
    {
     "data": {
      "text/latex": [
       "$\\displaystyle \\frac{1.0 - 0.72 W^{2}}{- 1.728 i W^{3} - 2.88 W^{2} + 2.5 i W + 2}$"
      ],
      "text/plain": [
       "(1.0 - 0.72*W**2)/(-1.728*I*W**3 - 2.88*W**2 + 2.5*I*W + 2)"
      ]
     },
     "execution_count": 59,
     "metadata": {},
     "output_type": "execute_result"
    }
   ],
   "source": [
    "M=M.subs(S, 1j*W)\n",
    "M"
   ]
  },
  {
   "cell_type": "code",
   "execution_count": 64,
   "id": "e4b3bfba",
   "metadata": {},
   "outputs": [
    {
     "data": {
      "text/latex": [
       "$\\displaystyle \\frac{\\left(0.72 W^{2} - 1\\right) \\left(2.88 W^{2} - 1.0 i W \\left(1.728 W^{2} - 2.5\\right) - 2\\right)}{2.985984 W^{6} - 0.345600000000001 W^{4} - 5.27 W^{2} + 4.0}$"
      ],
      "text/plain": [
       "(0.72*W**2 - 1)*(2.88*W**2 - 1.0*I*W*(1.728*W**2 - 2.5) - 2)/(2.985984*W**6 - 0.345600000000001*W**4 - 5.27*W**2 + 4.0)"
      ]
     },
     "execution_count": 64,
     "metadata": {},
     "output_type": "execute_result"
    }
   ],
   "source": [
    "I=-1j*(2.5*W-1.728*W**3)\n",
    "F=-2.88*W**2+2\n",
    "D=1+-0.72*W**2\n",
    "M=(D*(F+I))/(F**2-I**2)\n",
    "\n",
    "M=(F**2-I**2)\n",
    "M=M.simplify()\n",
    "A=D*(I)+D*F\n",
    "A=A.simplify()\n",
    "A/M\n",
    "\n"
   ]
  },
  {
   "cell_type": "markdown",
   "id": "59cb9e9f",
   "metadata": {},
   "source": [
    "$G(jw)=\\displaystyle \\frac{\\left(0.72 W^{2} - 1\\right) \\left(2.88 W^{2} + i W \\left(2.5 - 1.728 W^{2}\\right) - 2\\right)}{2.986 W^{6} - 0.3456 W^{4} - 5.27 W^{2} + 4}$"
   ]
  },
  {
   "cell_type": "markdown",
   "id": "cf8936eb",
   "metadata": {},
   "source": [
    "$I=\\displaystyle \\frac{\\left(0.72 W^{2} - 1\\right) \\left( i W \\left(2.5 - 1.728 W^{2}\\right)\\right)}{2.986 W^{6} - 0.3456 W^{4} - 5.27 W^{2} + 4}$\n",
    "\n",
    "$R=\\displaystyle \\frac{\\left(0.72 W^{2} - 1\\right) \\left(2.88 W^{2}  - 2\\right)}{2.986 W^{6} - 0.3456 W^{4} - 5.27 W^{2} + 4}$"
   ]
  },
  {
   "cell_type": "markdown",
   "id": "f24f485a",
   "metadata": {},
   "source": [
    "## $|G(jw)|$"
   ]
  },
  {
   "cell_type": "code",
   "execution_count": 85,
   "id": "92ba59d0",
   "metadata": {},
   "outputs": [
    {
     "data": {
      "text/latex": [
       "$\\displaystyle 0.546489563567362 \\sqrt{\\frac{\\left(0.72 W^{2} - 1\\right)^{2} \\left(0.753520447530864 W^{2} \\left(0.6912 W^{2} - 1\\right)^{2} + \\left(W^{2} - 0.694444444444444\\right)^{2}\\right)}{\\left(0.566603415559772 W^{6} - 0.0655787476280835 W^{4} - W^{2} + 0.759013282732448\\right)^{2}}}$"
      ],
      "text/plain": [
       "0.546489563567362*sqrt((0.72*W**2 - 1)**2*(0.753520447530864*W**2*(0.6912*W**2 - 1)**2 + (W**2 - 0.694444444444444)**2)/(0.566603415559772*W**6 - 0.0655787476280835*W**4 - W**2 + 0.759013282732448)**2)"
      ]
     },
     "execution_count": 85,
     "metadata": {},
     "output_type": "execute_result"
    }
   ],
   "source": [
    "Im=((0.72 * W**2 - 1) *( 1 * W* (2.5 - 1.728 *W**2)))/(2.986 *W**6 - 0.3456 *W**4 - 5.27* W**2 + 4)\n",
    "\n",
    "Re=((0.72 *W**2 - 1)*(2.88* W**2  - 2))/(2.986 *W**6 - 0.3456 *W**4 - 5.27* W**2 + 4)\n",
    "\n",
    "Mod=sqrt(Im**2+Re**2)\n",
    "Mod.simplify()\n"
   ]
  },
  {
   "cell_type": "markdown",
   "id": "f5e2d53a",
   "metadata": {},
   "source": [
    "$|G(jw)|=\\displaystyle 0.546 \\sqrt{\\frac{\\left(0.72 W^{2} - 1\\right)^{2} \\left(0.754 W^{2} \\left(0.6912 W^{2} - 1\\right)^{2} + \\left(W^{2} - 0.69\\right)^{2}\\right)}{\\left(0.567 W^{6} - 0.066 W^{4} - W^{2} + 0.759\\right)^{2}}}$"
   ]
  },
  {
   "cell_type": "markdown",
   "id": "9b1d4cac",
   "metadata": {},
   "source": [
    "---\n",
    "\n",
    "## $\\phi_G(jw)$"
   ]
  },
  {
   "cell_type": "code",
   "execution_count": 81,
   "id": "8e1f1b0d",
   "metadata": {},
   "outputs": [
    {
     "data": {
      "text/latex": [
       "$\\displaystyle \\frac{W \\left(2.5 - 1.728 W^{2}\\right)}{2.88 W^{2} - 2}$"
      ],
      "text/plain": [
       "W*(2.5 - 1.728*W**2)/(2.88*W**2 - 2)"
      ]
     },
     "execution_count": 81,
     "metadata": {},
     "output_type": "execute_result"
    }
   ],
   "source": [
    "Im/Re"
   ]
  },
  {
   "cell_type": "markdown",
   "id": "b51815ec",
   "metadata": {},
   "source": [
    "$\\phi(jw)=arctan \\left(\\frac{I}{R}\\right)=arctan \\displaystyle \\frac{4 W^{2} - 2}{2 W^{3} - 4 W}$\n",
    "\n",
    "---\n",
    "## Limite de la fase\n",
    "\n",
    "$\\lim_{w \\to 0}=\\displaystyle \\frac{W \\left(2.5 - 1.728 W^{2}\\right)}{2.88 W^{2} - 2}=\\pi n$\n",
    "\n",
    "$\\lim_{w \\to \\infty}=arctan\\displaystyle \\frac{W \\left(2.5 - 1.728 W^{2}\\right)}{2.88 W^{2} - 2}= \\arctan (\\infty) =\\frac{\\pi}{2} +\\pi n$\n",
    "\n"
   ]
  },
  {
   "cell_type": "markdown",
   "id": "f6c7101b",
   "metadata": {},
   "source": [
    "## Limite del modulo\n",
    "\n",
    "$\\lim_{w \\to 0}\\displaystyle 0.546 \\sqrt{\\frac{\\left(0.72 W^{2} - 1\\right)^{2} \\left(0.754 W^{2} \\left(0.6912 W^{2} - 1\\right)^{2} + \\left(W^{2} - 0.69\\right)^{2}\\right)}{\\left(0.567 W^{6} - 0.066 W^{4} - W^{2} + 0.759\\right)^{2}}}\\approx \\frac{1}{2}$\n",
    "\n"
   ]
  },
  {
   "cell_type": "code",
   "execution_count": 104,
   "id": "912d7bba",
   "metadata": {},
   "outputs": [
    {
     "data": {
      "text/plain": [
       "0.4954545454545454"
      ]
     },
     "execution_count": 104,
     "metadata": {},
     "output_type": "execute_result"
    }
   ],
   "source": [
    "0.545*0.69/0.759"
   ]
  },
  {
   "cell_type": "markdown",
   "id": "30a8d5fe",
   "metadata": {},
   "source": [
    "\n",
    "$\\lim_{w \\to \\infty}\\displaystyle 0.546 \\sqrt{\\frac{\\left(0.72 W^{2} - 1\\right)^{2} \\left(0.754 W^{2} \\left(0.6912 W^{2} - 1\\right)^{2} + \\left(W^{2} - 0.69\\right)^{2}\\right)}{\\left(0.567 W^{6} - 0.066 W^{4} - W^{2} + 0.759\\right)^{2}}}=0$"
   ]
  },
  {
   "attachments": {
    "Simulacion3.png": {
     "image/png": "[encoded data removed]"
    }
   },
   "cell_type": "markdown",
   "id": "7e4393d3",
   "metadata": {},
   "source": [
    "![Simulacion3.png](attachment:Simulacion3.png)"
   ]
  },
  {
   "cell_type": "markdown",
   "id": "04eea8d1",
   "metadata": {},
   "source": [
    "Podemos ver que es un filtro pasabajo con una ventana."
   ]
  }
 ],
 "metadata": {
  "interpreter": {
   "hash": "6947768fa0027e942d850c6798665207ce690ebf848acdd947af2394d0cdd463"
  },
  "kernelspec": {
   "display_name": "Python 3",
   "language": "python",
   "name": "python3"
  },
  "language_info": {
   "codemirror_mode": {
    "name": "ipython",
    "version": 3
   },
   "file_extension": ".py",
   "mimetype": "text/x-python",
   "name": "python",
   "nbconvert_exporter": "python",
   "pygments_lexer": "ipython3",
   "version": "3.8.8"
  }
 },
 "nbformat": 4,
 "nbformat_minor": 5
}
