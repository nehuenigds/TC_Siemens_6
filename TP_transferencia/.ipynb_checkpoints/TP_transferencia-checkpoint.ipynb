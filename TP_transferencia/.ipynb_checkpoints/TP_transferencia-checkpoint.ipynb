{
 "cells": [
  {
   "cell_type": "markdown",
   "id": "b684ba39",
   "metadata": {},
   "source": [
    "Teoria de los Circuitos\n",
    "\n",
    "# Transferencias \n",
    "Nehuen Ivanovic "
   ]
  },
  {
   "cell_type": "markdown",
   "id": "d5d995ae",
   "metadata": {},
   "source": [
    "- "
   ]
  },
  {
   "cell_type": "code",
   "execution_count": null,
   "id": "8e92c33d",
   "metadata": {},
   "outputs": [],
   "source": []
  },
  {
   "cell_type": "code",
   "execution_count": null,
   "id": "f24fb7f0",
   "metadata": {},
   "outputs": [],
   "source": []
  }
 ],
 "metadata": {
  "kernelspec": {
   "display_name": "Python 3",
   "language": "python",
   "name": "python3"
  },
  "language_info": {
   "codemirror_mode": {
    "name": "ipython",
    "version": 3
   },
   "file_extension": ".py",
   "mimetype": "text/x-python",
   "name": "python",
   "nbconvert_exporter": "python",
   "pygments_lexer": "ipython3",
   "version": "3.8.8"
  }
 },
 "nbformat": 4,
 "nbformat_minor": 5
}
